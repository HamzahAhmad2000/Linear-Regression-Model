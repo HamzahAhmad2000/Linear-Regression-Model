{
  "nbformat": 4,
  "nbformat_minor": 0,
  "metadata": {
    "colab": {
      "provenance": []
    },
    "kernelspec": {
      "name": "python3",
      "display_name": "Python 3"
    },
    "language_info": {
      "name": "python"
    }
  },
  "cells": [
    {
      "cell_type": "code",
      "execution_count": 1,
      "metadata": {
        "id": "N96KMEOv2smV"
      },
      "outputs": [],
      "source": [
        "def train(model):\n",
        "    # Define loss function and optimizer\n",
        "    criterion = nn.MSELoss()\n",
        "    optimizer = optim.SGD(model.parameters(), lr=0.01)\n",
        "\n",
        "    # Train the model\n",
        "    num_epochs = 100\n",
        "    for epoch in range(num_epochs):\n",
        "\n",
        "        outputs = model(x_tensor)\n",
        "        loss = criterion(outputs, y_tensor)\n",
        "\n",
        "    #     # Backward pass and optimization\n",
        "        optimizer.zero_grad()\n",
        "        loss.backward()\n",
        "        optimizer.step()\n",
        "\n",
        "        if (epoch+1) % 10 == 0:\n",
        "            print(f'Epoch [{epoch+1}/{num_epochs}], Loss: {loss.item():.4f}')"
      ]
    },
    {
      "cell_type": "code",
      "source": [
        "def test(model):\n",
        "    testVal=np.random.rand(1,1)\n",
        "    testVal[0][0]=200\n",
        "    testVal = torch.from_numpy(testVal.astype(np.float32))\n",
        "    prediction= model(testVal)\n",
        "    print(\"testing at value 200 =\" ,prediction.item())"
      ],
      "metadata": {
        "id": "DrRhp_v622RS"
      },
      "execution_count": 2,
      "outputs": []
    },
    {
      "cell_type": "code",
      "source": [
        "#APPLY NECESSARY ML CONCEPTS THAT MAY BE USEFUL\n",
        "\n",
        "import torch\n",
        "import torch.nn as nn\n",
        "import torch.optim as optim\n",
        "import numpy as np\n",
        "import matplotlib.pyplot as plt\n",
        "\n",
        "np.random.seed(42)\n",
        "x = np.random.rand(200, 1)  # Generate random input data\n",
        "y =  x + 2\n",
        "\n",
        "\n",
        "x_tensor = torch.from_numpy(x.astype(np.float32))\n",
        "y_tensor = torch.from_numpy(y.astype(np.float32))\n",
        "\n",
        "\n",
        "# Define the linear regression model\n",
        "class LinearRegression(nn.Module):\n",
        "    def __init__(self, input_size,hidden1,hidden2, output_size):\n",
        "        super(LinearRegression, self).__init__()\n",
        "        self.linear1 = nn.Linear(input_size, hidden1)\n",
        "        self.linear2=nn.Linear(hidden1, hidden2)\n",
        "        self.linear3=nn.Linear(hidden2, output_size)\n",
        "        self.w1=0\n",
        "        self.w2=0\n",
        "        self.w3=0\n",
        "    def forward(self, x):\n",
        "        self.w1=x\n",
        "        x=self.linear1(x)\n",
        "        self.w1=x/self.w1\n",
        "        self.w2=self.w1\n",
        "        x=self.linear2(x)\n",
        "        self.w2=x/self.w2\n",
        "        self.w3=self.w2\n",
        "        x=self.linear3(x)\n",
        "\n",
        "        self.w3=x/self.w3\n",
        "        return x\n",
        "    def returnWeights(self):\n",
        "        return self.w1,self.w2,self.w3\n",
        "\n",
        "input_size = 1  # One feature in the input (x)\n",
        "output_size = 1  # One output (y)\n",
        "hidden=32\n",
        "model = LinearRegression(input_size,hidden,hidden ,output_size)\n",
        "train(model)\n",
        "\n",
        "print(\"\")\n",
        "print(\"\")\n",
        "print(\"\")\n",
        "test(model)\n",
        "print(\"\")\n",
        "print(\"\")\n",
        "print(\"\")\n",
        "w1,w2,w3=model.returnWeights()\n",
        "print(\"w1=\",w1)\n",
        "print(\"\")\n",
        "print(\"\")\n",
        "print(\"w2=\", w2)\n",
        "print(\"\")\n",
        "print(\"\")\n",
        "print(\"w3=\",w3)"
      ],
      "metadata": {
        "id": "qqBJFtOa23NW"
      },
      "execution_count": null,
      "outputs": []
    }
  ]
}